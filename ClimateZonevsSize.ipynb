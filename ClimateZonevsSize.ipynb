{
 "cells": [
  {
   "cell_type": "code",
   "execution_count": 1,
   "metadata": {},
   "outputs": [],
   "source": [
    "import pandas as pd\n",
    "import matplotlib.pyplot as plt\n",
    "import numpy as np"
   ]
  },
  {
   "cell_type": "code",
   "execution_count": 2,
   "metadata": {},
   "outputs": [],
   "source": [
    "#iported csv data from github\n",
    "\n",
    "df = pd.read_csv(\"Data/solar_summary.csv\")"
   ]
  },
  {
   "cell_type": "code",
   "execution_count": 3,
   "metadata": {},
   "outputs": [],
   "source": [
    "#created data frame variable \n",
    "df_climate = pd.read_csv(\"Data/BuildingClimateZonesByZIPCode.csv\")"
   ]
  },
  {
   "cell_type": "code",
   "execution_count": 4,
   "metadata": {},
   "outputs": [
    {
     "data": {
      "text/html": [
       "<div>\n",
       "<style scoped>\n",
       "    .dataframe tbody tr th:only-of-type {\n",
       "        vertical-align: middle;\n",
       "    }\n",
       "\n",
       "    .dataframe tbody tr th {\n",
       "        vertical-align: top;\n",
       "    }\n",
       "\n",
       "    .dataframe thead th {\n",
       "        text-align: right;\n",
       "    }\n",
       "</style>\n",
       "<table border=\"1\" class=\"dataframe\">\n",
       "  <thead>\n",
       "    <tr style=\"text-align: right;\">\n",
       "      <th></th>\n",
       "      <th>Incentive Program</th>\n",
       "      <th>System Size kw</th>\n",
       "      <th>zipcode</th>\n",
       "      <th>Cost Per Watt</th>\n",
       "      <th>Utility Company</th>\n",
       "      <th>County</th>\n",
       "      <th>Solar Energy Production kwh</th>\n",
       "      <th>Building CZ</th>\n",
       "      <th>Population</th>\n",
       "      <th>Housing Units</th>\n",
       "      <th>land_area_sq_mi</th>\n",
       "      <th>Electricity Production Millions of kWh (GWh)</th>\n",
       "    </tr>\n",
       "  </thead>\n",
       "  <tbody>\n",
       "    <tr>\n",
       "      <th>0</th>\n",
       "      <td>California Public Utilities Commission (Non-CS...</td>\n",
       "      <td>7.0672</td>\n",
       "      <td>93720</td>\n",
       "      <td>3.162497</td>\n",
       "      <td>Pacific Gas &amp; Electric Company</td>\n",
       "      <td>Fresno</td>\n",
       "      <td>11080.851980</td>\n",
       "      <td>13</td>\n",
       "      <td>930450</td>\n",
       "      <td>315531</td>\n",
       "      <td>5958</td>\n",
       "      <td>2674.195219</td>\n",
       "    </tr>\n",
       "    <tr>\n",
       "      <th>1</th>\n",
       "      <td>California Public Utilities Commission (Non-CS...</td>\n",
       "      <td>6.5604</td>\n",
       "      <td>93720</td>\n",
       "      <td>1.704481</td>\n",
       "      <td>Pacific Gas &amp; Electric Company</td>\n",
       "      <td>Fresno</td>\n",
       "      <td>9368.967142</td>\n",
       "      <td>13</td>\n",
       "      <td>930450</td>\n",
       "      <td>315531</td>\n",
       "      <td>5958</td>\n",
       "      <td>2674.195219</td>\n",
       "    </tr>\n",
       "    <tr>\n",
       "      <th>2</th>\n",
       "      <td>California Public Utilities Commission (Non-CS...</td>\n",
       "      <td>6.5604</td>\n",
       "      <td>93720</td>\n",
       "      <td>1.704481</td>\n",
       "      <td>Pacific Gas &amp; Electric Company</td>\n",
       "      <td>Fresno</td>\n",
       "      <td>9008.908333</td>\n",
       "      <td>13</td>\n",
       "      <td>930450</td>\n",
       "      <td>315531</td>\n",
       "      <td>5958</td>\n",
       "      <td>2674.195219</td>\n",
       "    </tr>\n",
       "    <tr>\n",
       "      <th>3</th>\n",
       "      <td>California Public Utilities Commission (Non-CS...</td>\n",
       "      <td>9.9320</td>\n",
       "      <td>93720</td>\n",
       "      <td>4.063711</td>\n",
       "      <td>Pacific Gas &amp; Electric Company</td>\n",
       "      <td>Fresno</td>\n",
       "      <td>14009.671590</td>\n",
       "      <td>13</td>\n",
       "      <td>930450</td>\n",
       "      <td>315531</td>\n",
       "      <td>5958</td>\n",
       "      <td>2674.195219</td>\n",
       "    </tr>\n",
       "    <tr>\n",
       "      <th>4</th>\n",
       "      <td>California Public Utilities Commission (Non-CS...</td>\n",
       "      <td>8.2005</td>\n",
       "      <td>93720</td>\n",
       "      <td>4.208194</td>\n",
       "      <td>Pacific Gas &amp; Electric Company</td>\n",
       "      <td>Fresno</td>\n",
       "      <td>10891.724510</td>\n",
       "      <td>13</td>\n",
       "      <td>930450</td>\n",
       "      <td>315531</td>\n",
       "      <td>5958</td>\n",
       "      <td>2674.195219</td>\n",
       "    </tr>\n",
       "  </tbody>\n",
       "</table>\n",
       "</div>"
      ],
      "text/plain": [
       "                                   Incentive Program  System Size kw  zipcode  \\\n",
       "0  California Public Utilities Commission (Non-CS...          7.0672    93720   \n",
       "1  California Public Utilities Commission (Non-CS...          6.5604    93720   \n",
       "2  California Public Utilities Commission (Non-CS...          6.5604    93720   \n",
       "3  California Public Utilities Commission (Non-CS...          9.9320    93720   \n",
       "4  California Public Utilities Commission (Non-CS...          8.2005    93720   \n",
       "\n",
       "   Cost Per Watt                 Utility Company  County  \\\n",
       "0       3.162497  Pacific Gas & Electric Company  Fresno   \n",
       "1       1.704481  Pacific Gas & Electric Company  Fresno   \n",
       "2       1.704481  Pacific Gas & Electric Company  Fresno   \n",
       "3       4.063711  Pacific Gas & Electric Company  Fresno   \n",
       "4       4.208194  Pacific Gas & Electric Company  Fresno   \n",
       "\n",
       "   Solar Energy Production kwh  Building CZ  Population  Housing Units  \\\n",
       "0                 11080.851980           13      930450         315531   \n",
       "1                  9368.967142           13      930450         315531   \n",
       "2                  9008.908333           13      930450         315531   \n",
       "3                 14009.671590           13      930450         315531   \n",
       "4                 10891.724510           13      930450         315531   \n",
       "\n",
       "   land_area_sq_mi  Electricity Production Millions of kWh (GWh)  \n",
       "0             5958                                   2674.195219  \n",
       "1             5958                                   2674.195219  \n",
       "2             5958                                   2674.195219  \n",
       "3             5958                                   2674.195219  \n",
       "4             5958                                   2674.195219  "
      ]
     },
     "execution_count": 4,
     "metadata": {},
     "output_type": "execute_result"
    }
   ],
   "source": [
    "#printed the columns with top 5 values\n",
    "df.head()"
   ]
  },
  {
   "cell_type": "code",
   "execution_count": 5,
   "metadata": {},
   "outputs": [],
   "source": [
    "#created data frame variable with zip codes and size kW\n",
    "df_size_zip = df[[\"zipcode\",\"System Size kw\"]]"
   ]
  },
  {
   "cell_type": "code",
   "execution_count": 6,
   "metadata": {},
   "outputs": [
    {
     "data": {
      "text/html": [
       "<div>\n",
       "<style scoped>\n",
       "    .dataframe tbody tr th:only-of-type {\n",
       "        vertical-align: middle;\n",
       "    }\n",
       "\n",
       "    .dataframe tbody tr th {\n",
       "        vertical-align: top;\n",
       "    }\n",
       "\n",
       "    .dataframe thead th {\n",
       "        text-align: right;\n",
       "    }\n",
       "</style>\n",
       "<table border=\"1\" class=\"dataframe\">\n",
       "  <thead>\n",
       "    <tr style=\"text-align: right;\">\n",
       "      <th></th>\n",
       "      <th>zipcode</th>\n",
       "      <th>System Size kw</th>\n",
       "    </tr>\n",
       "  </thead>\n",
       "  <tbody>\n",
       "    <tr>\n",
       "      <th>0</th>\n",
       "      <td>93720</td>\n",
       "      <td>7.0672</td>\n",
       "    </tr>\n",
       "    <tr>\n",
       "      <th>1</th>\n",
       "      <td>93720</td>\n",
       "      <td>6.5604</td>\n",
       "    </tr>\n",
       "    <tr>\n",
       "      <th>2</th>\n",
       "      <td>93720</td>\n",
       "      <td>6.5604</td>\n",
       "    </tr>\n",
       "    <tr>\n",
       "      <th>3</th>\n",
       "      <td>93720</td>\n",
       "      <td>9.9320</td>\n",
       "    </tr>\n",
       "    <tr>\n",
       "      <th>4</th>\n",
       "      <td>93720</td>\n",
       "      <td>8.2005</td>\n",
       "    </tr>\n",
       "  </tbody>\n",
       "</table>\n",
       "</div>"
      ],
      "text/plain": [
       "   zipcode  System Size kw\n",
       "0    93720          7.0672\n",
       "1    93720          6.5604\n",
       "2    93720          6.5604\n",
       "3    93720          9.9320\n",
       "4    93720          8.2005"
      ]
     },
     "execution_count": 6,
     "metadata": {},
     "output_type": "execute_result"
    }
   ],
   "source": [
    "df_size_zip.head()"
   ]
  },
  {
   "cell_type": "code",
   "execution_count": 7,
   "metadata": {},
   "outputs": [
    {
     "data": {
      "text/plain": [
       "<pandas.core.groupby.groupby.DataFrameGroupBy object at 0x1091cc780>"
      ]
     },
     "execution_count": 7,
     "metadata": {},
     "output_type": "execute_result"
    }
   ],
   "source": [
    "df_size_zip.groupby(\"zipcode\")"
   ]
  },
  {
   "cell_type": "code",
   "execution_count": 8,
   "metadata": {},
   "outputs": [],
   "source": [
    "#avg_per_zipcode = df_size_zip.groupby(\"zipcode\").mean()"
   ]
  },
  {
   "cell_type": "code",
   "execution_count": 9,
   "metadata": {},
   "outputs": [],
   "source": [
    "# I loop around the zip codes indexes rather than the elements itself, on every iteration I take first element of that\n",
    "#zipcode using index , search for it in df_size_zip data frame zipcode column , if found then I have to average its size_kw column\n",
    "#for all the same(in value) instances of that specific zip code found. This average (of the exactly the same instances) is put in a new data frame created with its \n",
    "# respective zip code \n",
    "\n",
    "zipcodes = df_size_zip[\"zipcode\"].unique()\n",
    "zipcodes.sort()\n",
    "df_new = pd.DataFrame(index=range(len(zipcodes)),columns=[\"zipcode\",\"avg_size_kw\"])\n",
    "\n",
    "for i in range(len(zipcodes)):\n",
    "    b = df_size_zip[df_size_zip[\"zipcode\"]== zipcodes[i]]\n",
    "    avg = b.mean()\n",
    "    df_new.iloc[i,:] = [int(avg[\"zipcode\"]),avg[\"System Size kw\"]]\n",
    "    \n",
    "    \n"
   ]
  },
  {
   "cell_type": "code",
   "execution_count": 10,
   "metadata": {},
   "outputs": [
    {
     "data": {
      "text/html": [
       "<div>\n",
       "<style scoped>\n",
       "    .dataframe tbody tr th:only-of-type {\n",
       "        vertical-align: middle;\n",
       "    }\n",
       "\n",
       "    .dataframe tbody tr th {\n",
       "        vertical-align: top;\n",
       "    }\n",
       "\n",
       "    .dataframe thead th {\n",
       "        text-align: right;\n",
       "    }\n",
       "</style>\n",
       "<table border=\"1\" class=\"dataframe\">\n",
       "  <thead>\n",
       "    <tr style=\"text-align: right;\">\n",
       "      <th></th>\n",
       "      <th>zipcode</th>\n",
       "      <th>avg_size_kw</th>\n",
       "    </tr>\n",
       "  </thead>\n",
       "  <tbody>\n",
       "    <tr>\n",
       "      <th>0</th>\n",
       "      <td>90001</td>\n",
       "      <td>10.3402</td>\n",
       "    </tr>\n",
       "    <tr>\n",
       "      <th>1</th>\n",
       "      <td>90002</td>\n",
       "      <td>3.87013</td>\n",
       "    </tr>\n",
       "    <tr>\n",
       "      <th>2</th>\n",
       "      <td>90003</td>\n",
       "      <td>4.08442</td>\n",
       "    </tr>\n",
       "    <tr>\n",
       "      <th>3</th>\n",
       "      <td>90004</td>\n",
       "      <td>9.97967</td>\n",
       "    </tr>\n",
       "    <tr>\n",
       "      <th>4</th>\n",
       "      <td>90005</td>\n",
       "      <td>9.77667</td>\n",
       "    </tr>\n",
       "  </tbody>\n",
       "</table>\n",
       "</div>"
      ],
      "text/plain": [
       "  zipcode avg_size_kw\n",
       "0   90001     10.3402\n",
       "1   90002     3.87013\n",
       "2   90003     4.08442\n",
       "3   90004     9.97967\n",
       "4   90005     9.77667"
      ]
     },
     "execution_count": 10,
     "metadata": {},
     "output_type": "execute_result"
    }
   ],
   "source": [
    "df_new.head()"
   ]
  },
  {
   "cell_type": "code",
   "execution_count": 11,
   "metadata": {},
   "outputs": [
    {
     "data": {
      "text/html": [
       "<div>\n",
       "<style scoped>\n",
       "    .dataframe tbody tr th:only-of-type {\n",
       "        vertical-align: middle;\n",
       "    }\n",
       "\n",
       "    .dataframe tbody tr th {\n",
       "        vertical-align: top;\n",
       "    }\n",
       "\n",
       "    .dataframe thead th {\n",
       "        text-align: right;\n",
       "    }\n",
       "</style>\n",
       "<table border=\"1\" class=\"dataframe\">\n",
       "  <thead>\n",
       "    <tr style=\"text-align: right;\">\n",
       "      <th></th>\n",
       "      <th>zipcode</th>\n",
       "      <th>Building CZ</th>\n",
       "    </tr>\n",
       "  </thead>\n",
       "  <tbody>\n",
       "    <tr>\n",
       "      <th>0</th>\n",
       "      <td>90001</td>\n",
       "      <td>8</td>\n",
       "    </tr>\n",
       "    <tr>\n",
       "      <th>1</th>\n",
       "      <td>90002</td>\n",
       "      <td>8</td>\n",
       "    </tr>\n",
       "    <tr>\n",
       "      <th>2</th>\n",
       "      <td>90003</td>\n",
       "      <td>8</td>\n",
       "    </tr>\n",
       "    <tr>\n",
       "      <th>3</th>\n",
       "      <td>90004</td>\n",
       "      <td>9</td>\n",
       "    </tr>\n",
       "    <tr>\n",
       "      <th>4</th>\n",
       "      <td>90005</td>\n",
       "      <td>9</td>\n",
       "    </tr>\n",
       "  </tbody>\n",
       "</table>\n",
       "</div>"
      ],
      "text/plain": [
       "   zipcode  Building CZ\n",
       "0    90001            8\n",
       "1    90002            8\n",
       "2    90003            8\n",
       "3    90004            9\n",
       "4    90005            9"
      ]
     },
     "execution_count": 11,
     "metadata": {},
     "output_type": "execute_result"
    }
   ],
   "source": [
    "df_climate.head()"
   ]
  },
  {
   "cell_type": "code",
   "execution_count": null,
   "metadata": {},
   "outputs": [],
   "source": []
  },
  {
   "cell_type": "code",
   "execution_count": 12,
   "metadata": {},
   "outputs": [
    {
     "data": {
      "text/plain": [
       "array([90001, 90002, 90003, ..., 96160, 96161, 96162])"
      ]
     },
     "execution_count": 12,
     "metadata": {},
     "output_type": "execute_result"
    }
   ],
   "source": [
    "#I wanted to see if the area zip codes are corresponding with climate zone zip codes\n",
    "df_climate[\"zipcode\"].unique()"
   ]
  },
  {
   "cell_type": "code",
   "execution_count": 13,
   "metadata": {},
   "outputs": [],
   "source": [
    "#I had to convert the string \"zipcode\" to an integer in order to merge these two data frames together.\n",
    "df_new[\"zipcode\"] = df_new[\"zipcode\"].astype(int)\n",
    "df_new[\"avg_size_kw\"]=df_new[\"avg_size_kw\"].astype(float)\n"
   ]
  },
  {
   "cell_type": "code",
   "execution_count": 14,
   "metadata": {},
   "outputs": [],
   "source": [
    "#merging average size b zip code with climate zones\n",
    "df_merge = df_climate.merge(df_new)"
   ]
  },
  {
   "cell_type": "code",
   "execution_count": 15,
   "metadata": {},
   "outputs": [
    {
     "data": {
      "text/plain": [
       "(0, 400)"
      ]
     },
     "execution_count": 15,
     "metadata": {},
     "output_type": "execute_result"
    },
    {
     "data": {
      "image/png": "[encoded data removed]",
      "text/plain": [
       "<Figure size 432x288 with 1 Axes>"
      ]
     },
     "metadata": {
      "needs_background": "light"
     },
     "output_type": "display_data"
    }
   ],
   "source": [
    "#%matplotlib inline used in case the scatter plot itself  wouldn't show up. This plot represent commercial and residential data\n",
    "\n",
    "\n",
    "df_merge.plot.scatter(x=\"Building CZ\", y=\"avg_size_kw\")\n",
    "plt.ylim(0,400)\n"
   ]
  },
  {
   "cell_type": "code",
   "execution_count": 16,
   "metadata": {},
   "outputs": [],
   "source": [
    "#CONCLUSION:\n",
    "#There is no correlation between the climate zone and the size of the solar panels installations. \n"
   ]
  },
  {
   "cell_type": "code",
   "execution_count": 17,
   "metadata": {},
   "outputs": [],
   "source": [
    "# county vs average kw\n",
    "\n",
    "df_size_county = df[[\"County\",\"System Size kw\"]]"
   ]
  },
  {
   "cell_type": "code",
   "execution_count": 18,
   "metadata": {},
   "outputs": [
    {
     "data": {
      "text/html": [
       "<div>\n",
       "<style scoped>\n",
       "    .dataframe tbody tr th:only-of-type {\n",
       "        vertical-align: middle;\n",
       "    }\n",
       "\n",
       "    .dataframe tbody tr th {\n",
       "        vertical-align: top;\n",
       "    }\n",
       "\n",
       "    .dataframe thead th {\n",
       "        text-align: right;\n",
       "    }\n",
       "</style>\n",
       "<table border=\"1\" class=\"dataframe\">\n",
       "  <thead>\n",
       "    <tr style=\"text-align: right;\">\n",
       "      <th></th>\n",
       "      <th>County</th>\n",
       "      <th>System Size kw</th>\n",
       "    </tr>\n",
       "  </thead>\n",
       "  <tbody>\n",
       "    <tr>\n",
       "      <th>0</th>\n",
       "      <td>Fresno</td>\n",
       "      <td>7.0672</td>\n",
       "    </tr>\n",
       "    <tr>\n",
       "      <th>1</th>\n",
       "      <td>Fresno</td>\n",
       "      <td>6.5604</td>\n",
       "    </tr>\n",
       "    <tr>\n",
       "      <th>2</th>\n",
       "      <td>Fresno</td>\n",
       "      <td>6.5604</td>\n",
       "    </tr>\n",
       "    <tr>\n",
       "      <th>3</th>\n",
       "      <td>Fresno</td>\n",
       "      <td>9.9320</td>\n",
       "    </tr>\n",
       "    <tr>\n",
       "      <th>4</th>\n",
       "      <td>Fresno</td>\n",
       "      <td>8.2005</td>\n",
       "    </tr>\n",
       "  </tbody>\n",
       "</table>\n",
       "</div>"
      ],
      "text/plain": [
       "   County  System Size kw\n",
       "0  Fresno          7.0672\n",
       "1  Fresno          6.5604\n",
       "2  Fresno          6.5604\n",
       "3  Fresno          9.9320\n",
       "4  Fresno          8.2005"
      ]
     },
     "execution_count": 18,
     "metadata": {},
     "output_type": "execute_result"
    }
   ],
   "source": [
    "df_size_county.head()"
   ]
  },
  {
   "cell_type": "code",
   "execution_count": 19,
   "metadata": {},
   "outputs": [],
   "source": [
    "df_size_county.groupby(\"County\").mean()\n",
    "\n",
    "df_graph = df_size_county.sort_values(\"System Size kw\", ascending=False).reset_index()"
   ]
  },
  {
   "cell_type": "code",
   "execution_count": 28,
   "metadata": {},
   "outputs": [
    {
     "data": {
      "image/png": "[encoded data removed]",
      "text/plain": [
       "<Figure size 432x288 with 1 Axes>"
      ]
     },
     "metadata": {
      "needs_background": "light"
     },
     "output_type": "display_data"
    }
   ],
   "source": [
    "df_graph.iloc[0:10,:].plot.bar(x= \"County\", y= \"System Size kw\");\n",
    "plt.ylabel(\"Size kw\");"
   ]
  },
  {
   "cell_type": "code",
   "execution_count": null,
   "metadata": {},
   "outputs": [],
   "source": []
  }
 ],
 "metadata": {
  "kernelspec": {
   "display_name": "Python 3",
   "language": "python",
   "name": "python3"
  },
  "language_info": {
   "codemirror_mode": {
    "name": "ipython",
    "version": 3
   },
   "file_extension": ".py",
   "mimetype": "text/x-python",
   "name": "python",
   "nbconvert_exporter": "python",
   "pygments_lexer": "ipython3",
   "version": "3.6.7"
  }
 },
 "nbformat": 4,
 "nbformat_minor": 2
}
